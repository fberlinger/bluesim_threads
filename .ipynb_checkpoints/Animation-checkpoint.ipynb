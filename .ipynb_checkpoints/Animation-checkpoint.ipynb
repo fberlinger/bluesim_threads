{
 "cells": [
  {
   "cell_type": "markdown",
   "metadata": {},
   "source": [
    "# Animation"
   ]
  },
  {
   "cell_type": "code",
   "execution_count": 2,
   "metadata": {},
   "outputs": [],
   "source": [
    "import ipyvolume as ipv\n",
    "from ipyvolume.moviemaker import MovieMaker\n",
    "import ipywidgets as widgets\n",
    "import ipywebrtc as webrtc\n",
    "import matplotlib.cm as cm\n",
    "import numpy as np\n",
    "from IPython.display import YouTubeVideo"
   ]
  },
  {
   "cell_type": "code",
   "execution_count": 4,
   "metadata": {},
   "outputs": [
    {
     "name": "stdout",
     "output_type": "stream",
     "text": [
      "(6, 10, 25)\n"
     ]
    }
   ],
   "source": [
    "data = np.load('data.npy')\n",
    "x, y, z, vx, vy, vz = data"
   ]
  },
  {
   "cell_type": "code",
   "execution_count": 5,
   "metadata": {},
   "outputs": [],
   "source": [
    "v = np.sqrt(x**2 + y**2 + z**2)\n",
    "v -= v.min(); v /= v.max();\n",
    "colors = np.array([cm.Reds(k) for k in v])"
   ]
  },
  {
   "cell_type": "code",
   "execution_count": 22,
   "metadata": {},
   "outputs": [
    {
     "data": {
      "application/vnd.jupyter.widget-view+json": {
       "model_id": "46c4b55f1b364114aef7462797b7a28c",
       "version_major": 2,
       "version_minor": 0
      },
      "text/plain": [
       "VkJveChjaGlsZHJlbj0oRmlndXJlKGNhbWVyYT1QZXJzcGVjdGl2ZUNhbWVyYShmb3Y9NDYuMCwgcG9zaXRpb249KDAuMCwgMC4wLCAyLjApLCBxdWF0ZXJuaW9uPSgwLjAsIDAuMCwgMC4wLCDigKY=\n"
      ]
     },
     "metadata": {},
     "output_type": "display_data"
    }
   ],
   "source": [
    "fig = ipv.figure()\n",
    "ipv.style.use('light')\n",
    "quiver = ipv.quiver(x, y, z, vx, vy, vz, size=5, color=colors[:,:,:3])\n",
    "ipv.show()"
   ]
  },
  {
   "cell_type": "code",
   "execution_count": 23,
   "metadata": {},
   "outputs": [],
   "source": [
    "quiver.sequence_index = 1"
   ]
  },
  {
   "cell_type": "code",
   "execution_count": 24,
   "metadata": {},
   "outputs": [],
   "source": [
    "ipv.animation_control(quiver, interval=500)"
   ]
  },
  {
   "cell_type": "code",
   "execution_count": 25,
   "metadata": {},
   "outputs": [
    {
     "data": {
      "application/vnd.jupyter.widget-view+json": {
       "model_id": "8e0c66c3ae3d452bb611af0fa9484a9c",
       "version_major": 2,
       "version_minor": 0
      },
      "text/plain": [
       "VkJveChjaGlsZHJlbj0oVG9nZ2xlQnV0dG9uKHZhbHVlPUZhbHNlLCBkZXNjcmlwdGlvbj11J1JlY29yZCcsIGljb249dSdjaXJjbGUnKSwgRHJvcGRvd24oaW5kZXg9MSwgb3B0aW9ucz0oKCfigKY=\n"
      ]
     },
     "metadata": {},
     "output_type": "display_data"
    }
   ],
   "source": [
    "mm = MovieMaker(stream=fig, camera=fig.camera)\n",
    "mm.widget_main"
   ]
  },
  {
   "cell_type": "code",
   "execution_count": 26,
   "metadata": {},
   "outputs": [
    {
     "data": {
      "application/vnd.jupyter.widget-view+json": {
       "model_id": "8d0d966614f1460c9db8e928ec342c3c",
       "version_major": 2,
       "version_minor": 0
      },
      "text/plain": [
       "RmlndXJlKGFuaW1hdGlvbj01MDAuMCwgY2FtZXJhPVBlcnNwZWN0aXZlQ2FtZXJhKGFzcGVjdD0wLjgsIGZvdj00Ni4wLCBtYXRyaXhXb3JsZE5lZWRzVXBkYXRlPVRydWUsIHBvc2l0aW9uPSjigKY=\n"
      ]
     },
     "metadata": {},
     "output_type": "display_data"
    }
   ],
   "source": [
    "fig"
   ]
  },
  {
   "cell_type": "code",
   "execution_count": 27,
   "metadata": {},
   "outputs": [
    {
     "data": {
      "application/vnd.jupyter.widget-view+json": {
       "model_id": "2602ae7aa46840c9999936e9140362cd",
       "version_major": 2,
       "version_minor": 0
      },
      "text/plain": [
       "VmlkZW9SZWNvcmRlcihmaWxlbmFtZT11J3Rlc3QnLCBzdHJlYW09RmlndXJlKGFuaW1hdGlvbj01MDAuMCwgY2FtZXJhPVBlcnNwZWN0aXZlQ2FtZXJhKGFzcGVjdD0wLjgsIGZvdj00Ni4wLCDigKY=\n"
      ]
     },
     "metadata": {},
     "output_type": "display_data"
    }
   ],
   "source": [
    "webrtc.VideoRecorder(stream=fig, filename='test')"
   ]
  },
  {
   "cell_type": "code",
   "execution_count": 28,
   "metadata": {},
   "outputs": [],
   "source": [
    "ipv.save('BlueDive.html')\n",
    "!open 'BlueDive.html'"
   ]
  },
  {
   "cell_type": "code",
   "execution_count": null,
   "metadata": {},
   "outputs": [],
   "source": []
  }
 ],
 "metadata": {
  "kernelspec": {
   "display_name": "Python 2",
   "language": "python",
   "name": "python2"
  },
  "language_info": {
   "codemirror_mode": {
    "name": "ipython",
    "version": 2
   },
   "file_extension": ".py",
   "mimetype": "text/x-python",
   "name": "python",
   "nbconvert_exporter": "python",
   "pygments_lexer": "ipython2",
   "version": "2.7.14"
  }
 },
 "nbformat": 4,
 "nbformat_minor": 2
}
