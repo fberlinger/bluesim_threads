{
 "cells": [
  {
   "cell_type": "code",
   "execution_count": 42,
   "metadata": {
    "scrolled": true
   },
   "outputs": [
    {
     "data": {
      "application/vnd.jupyter.widget-view+json": {
       "model_id": "4812d425de9a47e3a5723a93948c91a1",
       "version_major": 2,
       "version_minor": 0
      },
      "text/plain": [
       "VkJveChjaGlsZHJlbj0oRmlndXJlKGFuaW1hdGlvbj01MDAuMCwgY2FtZXJhPVBlcnNwZWN0aXZlQ2FtZXJhKGZvdj00Ni4wLCBwb3NpdGlvbj0oMC4wLCAwLjAsIDIuMCksIHF1YXRlcm5pb27igKY=\n"
      ]
     },
     "metadata": {},
     "output_type": "display_data"
    }
   ],
   "source": [
    "# Imports\n",
    "import ipyvolume as ipv\n",
    "from ipyvolume.moviemaker import MovieMaker\n",
    "import ipywidgets as widgets\n",
    "import ipywebrtc as webrtc\n",
    "import matplotlib.cm as cm\n",
    "import numpy as np\n",
    "import time\n",
    "\n",
    "# Data handling\n",
    "fish_id = 10\n",
    "data = np.load('occlusion.npy')\n",
    "x, y, z, vx, vy, vz = data\n",
    "speed = 2 # speed up animation 10 times\n",
    "\n",
    "# Colors\n",
    "v = np.sqrt(x**2 + y**2 + z**2)\n",
    "v -= v.min(); v /= v.max();\n",
    "colors = np.array([cm.Blues(k) for k in v])\n",
    "colors[:, fish_id, :] = cm.Reds(0.5) # center is red\n",
    "\n",
    "# Figure\n",
    "fig = ipv.figure()\n",
    "ipv.xlim(0, 1780)\n",
    "ipv.ylim(0, 1780)\n",
    "ipv.zlim(0, 1170)\n",
    "ipv.style.use('dark')\n",
    "quiver = ipv.quiver(x, y, z, vx, vy, vz, size=10, color=colors[:,:,:3])\n",
    "ipv.animation_control(quiver, interval=1000/speed)\n",
    "ipv.show()"
   ]
  },
  {
   "cell_type": "code",
   "execution_count": 43,
   "metadata": {},
   "outputs": [],
   "source": [
    "ipv.save('occlusion.html')\n",
    "!open 'occlusion.html'"
   ]
  }
 ],
 "metadata": {
  "kernelspec": {
   "display_name": "Python 2",
   "language": "python",
   "name": "python2"
  },
  "language_info": {
   "codemirror_mode": {
    "name": "ipython",
    "version": 2
   },
   "file_extension": ".py",
   "mimetype": "text/x-python",
   "name": "python",
   "nbconvert_exporter": "python",
   "pygments_lexer": "ipython2",
   "version": "2.7.14"
  }
 },
 "nbformat": 4,
 "nbformat_minor": 2
}
