{
 "cells": [
  {
   "cell_type": "code",
   "execution_count": 64,
   "metadata": {},
   "outputs": [
    {
     "name": "stdout",
     "output_type": "stream",
     "text": [
      "The autoreload extension is already loaded. To reload it, use:\n",
      "  %reload_ext autoreload\n"
     ]
    }
   ],
   "source": [
    "%load_ext autoreload\n",
    "%autoreload 2\n",
    "%matplotlib inline\n",
    "\n",
    "import matplotlib\n",
    "\n",
    "matplotlib.rcParams['figure.figsize'] = [16, 12]\n",
    "\n",
    "import math\n",
    "import numpy as np\n",
    "\n",
    "from interaction import Interaction\n",
    "from environment import Environment\n",
    "from fish import Fish\n",
    "from channel import Channel\n",
    "from observer import Observer\n",
    "from dynamics import Dynamics\n",
    "\n",
    "from utils import generate_distortion, generate_fish, run_simulation"
   ]
  },
  {
   "cell_type": "code",
   "execution_count": 71,
   "metadata": {
    "scrolled": true
   },
   "outputs": [
    {
     "name": "stdout",
     "output_type": "stream",
     "text": [
      "Please wait patiently 120 seconds. Thanks.\n",
      "It's time to say bye bye!\n"
     ]
    }
   ],
   "source": [
    "from events import Homing\n",
    "\n",
    "run_time = 100 # in seconds\n",
    "num_fish = 50\n",
    "arena_size = np.array([1780, 1780, 1170])\n",
    "arena_center = arena_size / 2.0\n",
    "initial_spread = 1500\n",
    "fish_pos = initial_spread * np.random.rand(num_fish, 3) + arena_center - initial_spread / 2.0\n",
    "#fish_pos = np.transpose(np.array([[1600], [1600], [50]]))\n",
    "fish_speed = 65 #xx old\n",
    "fish_vel = np.zeros((num_fish, 3)) #fish_speed / 3 * np.random.rand(num_fish, 3)\n",
    "fish_phi = math.pi * np.random.rand(num_fish, 1) #xx\n",
    "#fish_phi = np.array([7/8 * math.pi]) # pi/4 (doesnt work)\n",
    "fish_vphi = np.zeros((num_fish, 1)) #xx\n",
    "clock_freqs = 1\n",
    "verbose = False\n",
    "\n",
    "distortion = generate_distortion(type='none', magnitude=130, n=math.ceil(arena_size[0]/10)+1, show=False)\n",
    "environment = Environment(\n",
    "    arena_size=arena_size,\n",
    "    node_pos=fish_pos,\n",
    "    node_vel=fish_vel,\n",
    "    node_phi=fish_phi, #xx\n",
    "    node_vphi=fish_vphi,#xx\n",
    "    distortion=distortion,\n",
    "    prob_type='binary',\n",
    "    conn_thres=3000,\n",
    "    conn_drop=1,\n",
    "    noise_magnitude=10,\n",
    "    verbose=verbose\n",
    ")\n",
    "interaction = Interaction(environment, verbose=verbose)\n",
    "channel = Channel(environment)\n",
    "dynamics = Dynamics(environment, clock_freq=clock_freqs)\n",
    "\n",
    "fish = generate_fish(\n",
    "    n=num_fish, \n",
    "    channel=channel, \n",
    "    interaction=interaction,\n",
    "    dynamics=dynamics,\n",
    "    target_dist=130*1.75,\n",
    "    lim_neighbors=[2,3],\n",
    "    neighbor_weights=1.0,\n",
    "    fish_max_speeds=fish_speed,\n",
    "    clock_freqs=clock_freqs,\n",
    "    verbose=verbose\n",
    ")\n",
    "channel.set_nodes(fish)\n",
    "\n",
    "observer = Observer(fish=fish, environment=environment, channel=channel)\n",
    "\n",
    "missing_aircraft = Homing()\n",
    "for i in range(1, run_time): \n",
    "    observer.instruct(event=missing_aircraft, rel_clock=i, pos=arena_center, fish_all=True)\n",
    "    \n",
    "run_simulation(fish=fish, observer=observer, run_time=run_time, dark=False, white_axis=False, no_legend=True)"
   ]
  },
  {
   "cell_type": "code",
   "execution_count": 73,
   "metadata": {},
   "outputs": [],
   "source": [
    "# save data orbiting\n",
    "data = np.zeros((6, run_time-2, num_fish+2))\n",
    "\n",
    "data[0, :, :-2] = np.transpose(np.array(observer.x))\n",
    "data[1, :, :-2] = np.transpose(np.array(observer.y))\n",
    "data[2, :, :-2] = np.transpose(np.array(observer.z))\n",
    "data[3, :, :-2] = np.transpose(np.array(observer.vx))\n",
    "data[4, :, :-2] = np.transpose(np.array(observer.vy))\n",
    "data[5, :, :-2] = np.transpose(np.array(observer.vz))\n",
    "\n",
    "data[0, :, -2] = 1780/2\n",
    "data[1, :, -2] = 1780/2\n",
    "data[2, :, -2] = 1170/2+45\n",
    "data[3, :, -2] = 0\n",
    "data[4, :, -2] = 0\n",
    "data[5, :, -2] = -1\n",
    "data[0, :, -1] = 1780/2\n",
    "data[1, :, -1] = 1780/2\n",
    "data[2, :, -1] = 1170/2-45\n",
    "data[3, :, -1] = 0\n",
    "data[4, :, -1] = 0\n",
    "data[5, :, -1] = 1\n",
    "\n",
    "np.save('orbit', data)"
   ]
  },
  {
   "cell_type": "code",
   "execution_count": null,
   "metadata": {},
   "outputs": [],
   "source": [
    "# save data standard\n",
    "data = np.zeros((6, run_time, num_fish))\n",
    "\n",
    "data[0, :, :] = np.transpose(np.array(observer.x))\n",
    "data[1, :, :] = np.transpose(np.array(observer.y))\n",
    "data[2, :, :] = np.transpose(np.array(observer.z))\n",
    "data[3, :, :] = np.transpose(np.array(observer.vx))\n",
    "data[4, :, :] = np.transpose(np.array(observer.vy))\n",
    "data[5, :, :] = np.transpose(np.array(observer.vz))\n",
    "\n",
    "np.save('dynamics', data)"
   ]
  },
  {
   "cell_type": "code",
   "execution_count": 50,
   "metadata": {},
   "outputs": [],
   "source": [
    "\n",
    "d_mean = observer.d_mean"
   ]
  },
  {
   "cell_type": "code",
   "execution_count": 48,
   "metadata": {},
   "outputs": [],
   "source": [
    "data = np.zeros((6, run_time, num_fish))\n",
    "data[0, :, :] = np.transpose(np.array(observer.x))\n",
    "data[1, :, :] = np.transpose(np.array(observer.y))\n",
    "data[2, :, :] = np.transpose(np.array(observer.z))\n",
    "data[3, :, :] = np.transpose(np.array(observer.vx))\n",
    "data[4, :, :] = np.transpose(np.array(observer.vy))\n",
    "data[5, :, :] = np.transpose(np.array(observer.vz))\n",
    "\n",
    "vx_mean = np.sum(data[3, :, :], axis=1)/num_fish\n",
    "vy_mean = np.sum(data[4, :, :], axis=1)/num_fish\n",
    "vz_mean = np.sum(data[5, :, :], axis=1)/num_fish\n",
    "\n",
    "v_mean = np.array([vx_mean, vy_mean, vz_mean])\n",
    "v_mean_magnitude = np.linalg.norm(v_mean, axis=0)"
   ]
  },
  {
   "cell_type": "code",
   "execution_count": 63,
   "metadata": {},
   "outputs": [
    {
     "ename": "NameError",
     "evalue": "name 'dark' is not defined",
     "output_type": "error",
     "traceback": [
      "\u001b[0;31m---------------------------------------------------------------------------\u001b[0m",
      "\u001b[0;31mNameError\u001b[0m                                 Traceback (most recent call last)",
      "\u001b[0;32m<ipython-input-63-8e0e28d26378>\u001b[0m in \u001b[0;36m<module>\u001b[0;34m()\u001b[0m\n\u001b[1;32m      1\u001b[0m observer.plot(\n\u001b[0;32m----> 2\u001b[0;31m               \u001b[0mdark\u001b[0m\u001b[0;34m=\u001b[0m\u001b[0mdark\u001b[0m\u001b[0;34m,\u001b[0m\u001b[0;34m\u001b[0m\u001b[0m\n\u001b[0m\u001b[1;32m      3\u001b[0m               \u001b[0mwhite_axis\u001b[0m\u001b[0;34m=\u001b[0m\u001b[0mwhite_axis\u001b[0m\u001b[0;34m,\u001b[0m\u001b[0;34m\u001b[0m\u001b[0m\n\u001b[1;32m      4\u001b[0m               \u001b[0mno_legend\u001b[0m\u001b[0;34m=\u001b[0m\u001b[0mno_legend\u001b[0m\u001b[0;34m,\u001b[0m\u001b[0;34m\u001b[0m\u001b[0m\n\u001b[1;32m      5\u001b[0m               \u001b[0mno_star\u001b[0m\u001b[0;34m=\u001b[0m\u001b[0mno_star\u001b[0m\u001b[0;34m\u001b[0m\u001b[0m\n",
      "\u001b[0;31mNameError\u001b[0m: name 'dark' is not defined"
     ]
    }
   ],
   "source": []
  },
  {
   "cell_type": "code",
   "execution_count": null,
   "metadata": {},
   "outputs": [],
   "source": []
  }
 ],
 "metadata": {
  "kernelspec": {
   "display_name": "Python 3",
   "language": "python",
   "name": "python3"
  },
  "language_info": {
   "codemirror_mode": {
    "name": "ipython",
    "version": 3
   },
   "file_extension": ".py",
   "mimetype": "text/x-python",
   "name": "python",
   "nbconvert_exporter": "python",
   "pygments_lexer": "ipython3",
   "version": "3.6.1"
  }
 },
 "nbformat": 4,
 "nbformat_minor": 2
}
