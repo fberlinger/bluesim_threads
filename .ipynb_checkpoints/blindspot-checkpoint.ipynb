{
 "cells": [
  {
   "cell_type": "markdown",
   "metadata": {},
   "source": [
    "# Effects of the Size of the Blind Spot on Dispersion"
   ]
  },
  {
   "cell_type": "markdown",
   "metadata": {},
   "source": [
    "## Required Imports"
   ]
  },
  {
   "cell_type": "code",
   "execution_count": 6,
   "metadata": {},
   "outputs": [
    {
     "name": "stdout",
     "output_type": "stream",
     "text": [
      "The autoreload extension is already loaded. To reload it, use:\n",
      "  %reload_ext autoreload\n"
     ]
    }
   ],
   "source": [
    "%load_ext autoreload\n",
    "%autoreload 2\n",
    "\n",
    "import math\n",
    "import numpy as np\n",
    "import matplotlib.pyplot as plt\n",
    "\n",
    "from blindspot import Fish\n",
    "\n",
    "from interaction import Interaction\n",
    "from environment import Environment\n",
    "from channel import Channel\n",
    "from observer import Observer\n",
    "from dynamics import Dynamics\n",
    "\n",
    "from utils import generate_distortion, generate_fish, run_simulation"
   ]
  },
  {
   "cell_type": "markdown",
   "metadata": {},
   "source": [
    "## Blind Spot and Dispersion\n",
    "\n",
    "Change the width of the blind `w_blindspot` spot in the back of BlueBot. `w_blindspot=0` means no blind spot at all. `w_blindspot=50` represents the actual blindspot of the BlueBot. `w_blindspot=(2*1780**2)**(1/2)` means a blind spot wider than the diagonal of the tank environment, i.e. a 180° forward looking field of view only.\n",
    "\n",
    "Observe the effects of the blindspot on how well the fish disperse, described by there mean neighbor distance and mean speeds after a given `run_time`."
   ]
  },
  {
   "cell_type": "code",
   "execution_count": 69,
   "metadata": {
    "scrolled": true
   },
   "outputs": [
    {
     "name": "stdout",
     "output_type": "stream",
     "text": [
      "Please wait patiently 15 seconds. Thanks.\n",
      "fish #5 sees 24 neighbors before blindspot and 24 after in current iteration\n",
      "fish #5 sees 24 neighbors before blindspot and 24 after in current iteration\n",
      "fish #5 sees 24 neighbors before blindspot and 17 after in current iteration\n",
      "fish #5 sees 24 neighbors before blindspot and 23 after in current iteration\n",
      "fish #5 sees 24 neighbors before blindspot and 23 after in current iteration\n",
      "fish #5 sees 24 neighbors before blindspot and 24 after in current iteration\n",
      "fish #5 sees 24 neighbors before blindspot and 22 after in current iteration\n",
      "fish #5 sees 24 neighbors before blindspot and 21 after in current iteration\n",
      "fish #5 sees 24 neighbors before blindspot and 22 after in current iteration\n",
      "fish #5 sees 24 neighbors before blindspot and 23 after in current iteration\n",
      "fish #5 sees 24 neighbors before blindspot and 23 after in current iteration\n",
      "fish #5 sees 24 neighbors before blindspot and 23 after in current iteration\n",
      "fish #5 sees 24 neighbors before blindspot and 23 after in current iteration\n",
      "It's time to say bye bye!\n"
     ]
    }
   ],
   "source": [
    "w_blindspot = 50 # [mm]\n",
    "\n",
    "run_time = 15 # in seconds\n",
    "num_fish = 25\n",
    "arena_size = np.array([1780, 1780, 1170])\n",
    "arena_center = arena_size / 2.0\n",
    "initial_spread = 520\n",
    "fish_pos = initial_spread * np.random.rand(num_fish, 3) + arena_center - initial_spread / 2.0\n",
    "fish_vel = np.zeros((num_fish, 3))\n",
    "fish_phi = math.pi * np.random.rand(num_fish, 1)\n",
    "fish_vphi = np.zeros((num_fish, 1))\n",
    "clock_freqs = 1\n",
    "verbose = False\n",
    "\n",
    "distortion = generate_distortion(type='none', magnitude=130, n=math.ceil(arena_size[0]/10)+1, show=False)\n",
    "environment = Environment(\n",
    "    arena_size=arena_size,\n",
    "    node_pos=fish_pos,\n",
    "    node_vel=fish_vel,\n",
    "    node_phi=fish_phi,\n",
    "    node_vphi=fish_vphi,\n",
    "    distortion=distortion,\n",
    "    prob_type='binary',\n",
    "    conn_thres=3000,\n",
    "    conn_drop=1,\n",
    "    noise_magnitude=10,\n",
    "    verbose=verbose\n",
    ")\n",
    "interaction = Interaction(environment, verbose=verbose)\n",
    "channel = Channel(environment)\n",
    "dynamics = Dynamics(environment, clock_freq=clock_freqs)\n",
    "\n",
    "fish = generate_fish(\n",
    "    n=num_fish, \n",
    "    channel=channel, \n",
    "    interaction=interaction,\n",
    "    dynamics=dynamics,\n",
    "    w_blindspot=w_blindspot,\n",
    "    r_blocking=130,\n",
    "    target_dist=(2*1780**2)**(1/2),\n",
    "    lim_neighbors=[2,3],\n",
    "    neighbor_weights=1.0,\n",
    "    fish_max_speeds=130,\n",
    "    clock_freqs=clock_freqs,\n",
    "    verbose=verbose\n",
    ")\n",
    "channel.set_nodes(fish)\n",
    "\n",
    "observer = Observer(fish=fish, environment=environment, channel=channel)\n",
    "    \n",
    "run_simulation(fish=fish, observer=observer, run_time=run_time, dark=False, white_axis=False, no_legend=True)"
   ]
  },
  {
   "cell_type": "markdown",
   "metadata": {},
   "source": [
    "## Evaluate the Dispersion"
   ]
  },
  {
   "cell_type": "code",
   "execution_count": 70,
   "metadata": {},
   "outputs": [
    {
     "data": {
      "image/png": "[encoded data removed]",
      "text/plain": [
       "<matplotlib.figure.Figure at 0x1131be390>"
      ]
     },
     "metadata": {},
     "output_type": "display_data"
    },
    {
     "name": "stdout",
     "output_type": "stream",
     "text": [
      "The initial mean neighbor distance is 285.4mm. The initial mean robot speed is 0.0mm/s\n",
      "The final mean neighbor distance is 648.0mm. The final mean robot speed is 19.7mm/s\n",
      "The increase in mean neighbor distance is 127.1%\n"
     ]
    }
   ],
   "source": [
    "d_mean = observer.d_mean\n",
    "\n",
    "data = np.zeros((6, run_time, num_fish))\n",
    "data[0, :, :] = np.transpose(np.array(observer.x))\n",
    "data[1, :, :] = np.transpose(np.array(observer.y))\n",
    "data[2, :, :] = np.transpose(np.array(observer.z))\n",
    "data[3, :, :] = np.transpose(np.array(observer.vx))\n",
    "data[4, :, :] = np.transpose(np.array(observer.vy))\n",
    "data[5, :, :] = np.transpose(np.array(observer.vz))\n",
    "\n",
    "vx_mean = np.sum(data[3, :, :], axis=1)/num_fish\n",
    "vy_mean = np.sum(data[4, :, :], axis=1)/num_fish\n",
    "vz_mean = np.sum(data[5, :, :], axis=1)/num_fish\n",
    "\n",
    "v_mean = np.array([vx_mean, vy_mean, vz_mean])\n",
    "v_mean_magnitude = np.linalg.norm(v_mean, axis=0)\n",
    "\n",
    "fig, axs = plt.subplots(1, 2)\n",
    "plt.subplots_adjust(wspace=0.4)\n",
    "\n",
    "axs[0].plot(d_mean[2:])\n",
    "axs[0].set_xlabel('Time [s]')\n",
    "axs[0].set_ylabel('Distance [mm]')\n",
    "axs[1].plot(v_mean_magnitude)\n",
    "axs[1].set_xlabel('Time [s]')\n",
    "axs[1].set_ylabel('Speed [mm/s]')\n",
    "fig.suptitle('Mean neighbor distance and mean fish speed over time')\n",
    "plt.show()\n",
    "\n",
    "print('The initial mean neighbor distance is {0:.1f}mm. The initial mean robot speed is {1:.1f}mm/s'.format(d_mean[2], v_mean_magnitude[0]))\n",
    "print('The final mean neighbor distance is {0:.1f}mm. The final mean robot speed is {1:.1f}mm/s'.format(d_mean[-1], v_mean_magnitude[-1]))\n",
    "print('The increase in mean neighbor distance is {0:.1f}%'.format((d_mean[-1]/d_mean[2]-1)*100))"
   ]
  },
  {
   "cell_type": "markdown",
   "metadata": {},
   "source": [
    "## Prepare Data for Animation"
   ]
  },
  {
   "cell_type": "code",
   "execution_count": 29,
   "metadata": {},
   "outputs": [],
   "source": [
    "# Get fish data from observer\n",
    "data = np.zeros((6, run_time, num_fish))\n",
    "data[0, :, :] = np.transpose(np.array(observer.x))\n",
    "data[1, :, :] = np.transpose(np.array(observer.y))\n",
    "data[2, :, :] = np.transpose(np.array(observer.z))\n",
    "data[3, :, :] = np.transpose(np.array(observer.vx))\n",
    "data[4, :, :] = np.transpose(np.array(observer.vy))\n",
    "data[5, :, :] = np.transpose(np.array(observer.vz))"
   ]
  },
  {
   "cell_type": "markdown",
   "metadata": {},
   "source": [
    "## Save Data"
   ]
  },
  {
   "cell_type": "code",
   "execution_count": 30,
   "metadata": {},
   "outputs": [],
   "source": [
    "np.save('blindspot', data)"
   ]
  },
  {
   "cell_type": "markdown",
   "metadata": {
    "scrolled": true
   },
   "source": [
    "## Animate Simulated Data\n",
    "\n",
    "Change the speed-up factor of the animation in the variable `speed`. "
   ]
  },
  {
   "cell_type": "code",
   "execution_count": 8,
   "metadata": {},
   "outputs": [
    {
     "ename": "ModuleNotFoundError",
     "evalue": "No module named 'ipyvolume'",
     "output_type": "error",
     "traceback": [
      "\u001b[0;31m---------------------------------------------------------------------------\u001b[0m",
      "\u001b[0;31mModuleNotFoundError\u001b[0m                       Traceback (most recent call last)",
      "\u001b[0;32m<ipython-input-8-fe8fe9ca6ee9>\u001b[0m in \u001b[0;36m<module>\u001b[0;34m()\u001b[0m\n\u001b[1;32m      1\u001b[0m \u001b[0;31m# Imports\u001b[0m\u001b[0;34m\u001b[0m\u001b[0;34m\u001b[0m\u001b[0m\n\u001b[0;32m----> 2\u001b[0;31m \u001b[0;32mimport\u001b[0m \u001b[0mipyvolume\u001b[0m \u001b[0;32mas\u001b[0m \u001b[0mipv\u001b[0m\u001b[0;34m\u001b[0m\u001b[0m\n\u001b[0m\u001b[1;32m      3\u001b[0m \u001b[0;32mfrom\u001b[0m \u001b[0mipyvolume\u001b[0m\u001b[0;34m.\u001b[0m\u001b[0mmoviemaker\u001b[0m \u001b[0;32mimport\u001b[0m \u001b[0mMovieMaker\u001b[0m\u001b[0;34m\u001b[0m\u001b[0m\n\u001b[1;32m      4\u001b[0m \u001b[0;32mimport\u001b[0m \u001b[0mipywidgets\u001b[0m \u001b[0;32mas\u001b[0m \u001b[0mwidgets\u001b[0m\u001b[0;34m\u001b[0m\u001b[0m\n\u001b[1;32m      5\u001b[0m \u001b[0;32mimport\u001b[0m \u001b[0mipywebrtc\u001b[0m \u001b[0;32mas\u001b[0m \u001b[0mwebrtc\u001b[0m\u001b[0;34m\u001b[0m\u001b[0m\n",
      "\u001b[0;31mModuleNotFoundError\u001b[0m: No module named 'ipyvolume'"
     ]
    }
   ],
   "source": [
    "# Imports\n",
    "import ipyvolume as ipv\n",
    "from ipyvolume.moviemaker import MovieMaker\n",
    "import ipywidgets as widgets\n",
    "import ipywebrtc as webrtc\n",
    "import matplotlib.cm as cm\n",
    "import time\n",
    "\n",
    "# Data handling\n",
    "x, y, z, vx, vy, vz = data\n",
    "speed = 10 # speed up animation 10 times\n",
    "\n",
    "# Colors\n",
    "colors[:, -2:, :] = cm.Reds(0.5) # one robot is red\n",
    "colors[:, -1:, :] = cm.Blues(0.5) # one robot is blue\n",
    "\n",
    "# Figure\n",
    "fig = ipv.figure()\n",
    "ipv.xlim(0, 1780)\n",
    "ipv.ylim(0, 1780)\n",
    "ipv.zlim(0, 1170)\n",
    "ipv.style.use('dark')\n",
    "quiver = ipv.quiver(x, y, z, vx, vy, vz, size=10, color=colors[:,:,:3])\n",
    "ipv.animation_control(quiver, interval=1000/speed)\n",
    "ipv.show()"
   ]
  },
  {
   "cell_type": "markdown",
   "metadata": {},
   "source": [
    "## Save Animation as html"
   ]
  },
  {
   "cell_type": "code",
   "execution_count": null,
   "metadata": {},
   "outputs": [],
   "source": [
    "ipv.save('blindspot.html')\n",
    "!open 'blindspot.html'"
   ]
  }
 ],
 "metadata": {
  "kernelspec": {
   "display_name": "Python 3",
   "language": "python",
   "name": "python3"
  },
  "language_info": {
   "codemirror_mode": {
    "name": "ipython",
    "version": 3
   },
   "file_extension": ".py",
   "mimetype": "text/x-python",
   "name": "python",
   "nbconvert_exporter": "python",
   "pygments_lexer": "ipython3",
   "version": "3.6.1"
  }
 },
 "nbformat": 4,
 "nbformat_minor": 2
}
