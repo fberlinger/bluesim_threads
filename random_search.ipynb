{
 "cells": [
  {
   "cell_type": "markdown",
   "metadata": {},
   "source": [
    "# This Notebook Simulates Run Time for Random Search"
   ]
  },
  {
   "cell_type": "markdown",
   "metadata": {},
   "source": [
    "## Required Imports"
   ]
  },
  {
   "cell_type": "code",
   "execution_count": 1,
   "metadata": {},
   "outputs": [],
   "source": [
    "%load_ext autoreload\n",
    "%autoreload 2\n",
    "\n",
    "import math\n",
    "import numpy as np\n",
    "import matplotlib.pyplot as plt\n",
    "\n",
    "from fish import Fish\n",
    "\n",
    "from interaction import Interaction\n",
    "from environment import Environment\n",
    "from channel import Channel\n",
    "from observer import Observer\n",
    "from dynamics import Dynamics\n",
    "\n",
    "from utils import generate_distortion, generate_fish, run_simulation"
   ]
  },
  {
   "cell_type": "markdown",
   "metadata": {},
   "source": [
    "## Simulation of Swarm Spacing\n",
    "\n",
    "Change parameters here."
   ]
  },
  {
   "cell_type": "code",
   "execution_count": null,
   "metadata": {},
   "outputs": [],
   "source": [
    "run_time = 10 # in seconds, abort earlier here\n",
    "num_fish = 7\n",
    "arena_size = np.array([1780, 1780, 1170])\n",
    "arena_center = arena_size / 2.0\n",
    "initial_spread = 250\n",
    "fish_pos = initial_spread * np.random.rand(num_fish, 3) + arena_center - initial_spread / 2.0\n",
    "fish_vel = np.zeros((num_fish, 3))\n",
    "fish_phi = math.pi * np.random.rand(num_fish, 1)\n",
    "fish_vphi = np.zeros((num_fish, 1))\n",
    "clock_freqs = 1\n",
    "verbose = False\n",
    "\n",
    "distortion = generate_distortion(type='none', magnitude=130, n=math.ceil(arena_size[0]/10)+1, show=False)\n",
    "environment = Environment(\n",
    "    arena_size=arena_size,\n",
    "    node_pos=fish_pos,\n",
    "    node_vel=fish_vel,\n",
    "    node_phi=fish_phi,\n",
    "    node_vphi=fish_vphi,\n",
    "    distortion=distortion,\n",
    "    prob_type='binary',\n",
    "    conn_thres=3000,\n",
    "    conn_drop=1,\n",
    "    noise_magnitude=10,\n",
    "    verbose=verbose\n",
    ")\n",
    "interaction = Interaction(environment, verbose=verbose)\n",
    "channel = Channel(environment)\n",
    "dynamics = Dynamics(environment, clock_freq=clock_freqs)\n",
    "\n",
    "fish = generate_fish(\n",
    "    n=num_fish, \n",
    "    channel=channel, \n",
    "    interaction=interaction,\n",
    "    dynamics=dynamics,\n",
    "    w_blindspot=50,\n",
    "    r_blocking=65,\n",
    "    target_dist=1000,\n",
    "    lim_neighbors=[0,num_fish],\n",
    "    neighbor_weights=1.0,\n",
    "    fish_max_speeds=130,\n",
    "    clock_freqs=clock_freqs,\n",
    "    verbose=verbose\n",
    ")\n",
    "channel.set_nodes(fish)\n",
    "\n",
    "observer = Observer(fish=fish, environment=environment, channel=channel)\n",
    "    \n",
    "run_simulation(fish=fish, observer=observer, run_time=run_time, dark=False, white_axis=False, no_legend=True)"
   ]
  },
  {
   "cell_type": "code",
   "execution_count": null,
   "metadata": {},
   "outputs": [],
   "source": []
  }
 ],
 "metadata": {
  "kernelspec": {
   "display_name": "Python 3",
   "language": "python",
   "name": "python3"
  },
  "language_info": {
   "codemirror_mode": {
    "name": "ipython",
    "version": 3
   },
   "file_extension": ".py",
   "mimetype": "text/x-python",
   "name": "python",
   "nbconvert_exporter": "python",
   "pygments_lexer": "ipython3",
   "version": "3.7.0"
  }
 },
 "nbformat": 4,
 "nbformat_minor": 2
}
